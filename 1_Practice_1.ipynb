{
 "cells": [
  {
   "cell_type": "code",
   "execution_count": 3,
   "id": "36b10aaa",
   "metadata": {},
   "outputs": [],
   "source": [
    "from dotenv import load_dotenv"
   ]
  },
  {
   "cell_type": "code",
   "execution_count": 4,
   "id": "cb6aea07",
   "metadata": {},
   "outputs": [
    {
     "data": {
      "text/plain": [
       "True"
      ]
     },
     "execution_count": 4,
     "metadata": {},
     "output_type": "execute_result"
    }
   ],
   "source": [
    "load_dotenv()"
   ]
  },
  {
   "cell_type": "code",
   "execution_count": 9,
   "id": "f3b4b19a",
   "metadata": {},
   "outputs": [],
   "source": [
    "from langgraph.graph import StateGraph, START, END"
   ]
  },
  {
   "cell_type": "code",
   "execution_count": 11,
   "id": "5fa52e6d",
   "metadata": {},
   "outputs": [],
   "source": [
    "from typing_extensions import TypedDict"
   ]
  },
  {
   "cell_type": "code",
   "execution_count": 12,
   "id": "16fceede",
   "metadata": {},
   "outputs": [],
   "source": [
    "class MyState(TypedDict):\n",
    "    weight : float\n",
    "    height : float\n",
    "    bmi : float\n",
    "    category : str"
   ]
  },
  {
   "cell_type": "code",
   "execution_count": 13,
   "id": "5213a2d5",
   "metadata": {},
   "outputs": [],
   "source": [
    "def calculate_bmi(state: MyState) -> MyState:\n",
    "    weight = state[\"weight\"]\n",
    "    height = state[\"height\"]\n",
    "\n",
    "    bmi = weight / (height ** 2)\n",
    "\n",
    "    state[\"bmi\"] = bmi\n",
    "    return state"
   ]
  },
  {
   "cell_type": "code",
   "execution_count": 14,
   "id": "23725d11",
   "metadata": {},
   "outputs": [],
   "source": [
    "def label_bmi(state: MyState) -> MyState:\n",
    "    bmi = state[\"bmi\"]\n",
    "\n",
    "    if bmi < 18.5:\n",
    "        state[\"category\"] = \"Underweight\"\n",
    "    elif 18.5 <= bmi < 25 :\n",
    "        state[\"category\"] = \"Normal\"\n",
    "    elif 25 <= bmi < 30:\n",
    "        state[\"category\"] = \"Overweight\"\n",
    "    else: \n",
    "        state[\"category\"] = \"Obesity\"\n",
    "    \n",
    "    return state"
   ]
  },
  {
   "cell_type": "code",
   "execution_count": 19,
   "id": "6c689b6e",
   "metadata": {},
   "outputs": [],
   "source": [
    "graph = StateGraph(MyState)\n",
    "graph.add_node(\"calculate_bmi\", calculate_bmi)\n",
    "graph.add_node(\"label_bmi\", label_bmi)\n",
    "\n",
    "graph.add_edge(START, \"calculate_bmi\")\n",
    "graph.add_edge(\"calculate_bmi\", \"label_bmi\")\n",
    "graph.add_edge(\"label_bmi\", END)\n",
    "\n",
    "workflow = graph.compile()\n"
   ]
  },
  {
   "cell_type": "code",
   "execution_count": 21,
   "id": "55dcc712",
   "metadata": {},
   "outputs": [
    {
     "name": "stdout",
     "output_type": "stream",
     "text": [
      "{'weight': 70, 'height': 1.75, 'bmi': 22.857142857142858, 'category': 'Normal'}\n"
     ]
    }
   ],
   "source": [
    "initial_state = {\"weight\": 70, \"height\": 1.75}\n",
    "final_state = workflow.invoke(initial_state)\n",
    "print(final_state)"
   ]
  }
 ],
 "metadata": {
  "kernelspec": {
   "display_name": ".venv",
   "language": "python",
   "name": "python3"
  },
  "language_info": {
   "codemirror_mode": {
    "name": "ipython",
    "version": 3
   },
   "file_extension": ".py",
   "mimetype": "text/x-python",
   "name": "python",
   "nbconvert_exporter": "python",
   "pygments_lexer": "ipython3",
   "version": "3.13.5"
  }
 },
 "nbformat": 4,
 "nbformat_minor": 5
}
