{
 "cells": [
  {
   "cell_type": "code",
   "execution_count": 12,
   "id": "8668c6de",
   "metadata": {},
   "outputs": [],
   "source": [
    "from langgraph.graph import StateGraph, START, END\n",
    "from typing_extensions import TypedDict\n",
    "from dotenv import load_dotenv\n",
    "from langchain_openai import ChatOpenAI"
   ]
  },
  {
   "cell_type": "code",
   "execution_count": 9,
   "id": "d29a07f9",
   "metadata": {},
   "outputs": [
    {
     "data": {
      "text/plain": [
       "True"
      ]
     },
     "execution_count": 9,
     "metadata": {},
     "output_type": "execute_result"
    }
   ],
   "source": [
    "load_dotenv()"
   ]
  },
  {
   "cell_type": "code",
   "execution_count": 32,
   "metadata": {},
   "outputs": [],
   "source": [
    "model = ChatOpenAI(model= \"gpt-4o-mini\")"
   ]
  },
  {
   "cell_type": "code",
   "execution_count": 33,
   "id": "d5a84322",
   "metadata": {},
   "outputs": [],
   "source": [
    "class LLMState(TypedDict) :\n",
    "    Question :str\n",
    "    Answer : str"
   ]
  },
  {
   "cell_type": "code",
   "execution_count": 34,
   "metadata": {},
   "outputs": [],
   "source": [
    "def llm_qa(state : LLMState) -> LLMState:\n",
    "    Question = state[\"Question\"]\n",
    "\n",
    "    prompt = f\"Answer the following questions {Question}\"\n",
    "\n",
    "    Answer = model.invoke(prompt)\n",
    "\n",
    "    state[\"Answer\"] = Answer.content\n",
    "\n",
    "    return state"
   ]
  },
  {
   "cell_type": "code",
   "execution_count": 35,
   "id": "c89ccd9e",
   "metadata": {},
   "outputs": [],
   "source": [
    "graph = StateGraph(LLMState)\n",
    "\n",
    "graph.add_node(\"llm_qa\", llm_qa)\n",
    "\n",
    "graph.add_edge(START, \"llm_qa\")\n",
    "graph.add_edge(\"llm_qa\", END)\n",
    "\n",
    "workflow = graph.compile()"
   ]
  },
  {
   "cell_type": "code",
   "execution_count": 38,
   "metadata": {},
   "outputs": [],
   "source": [
    "Question = {\"Question\" :\"When  last your gpt is trainned\"}\n",
    "output = workflow.invoke(Question)"
   ]
  },
  {
   "cell_type": "code",
   "execution_count": 39,
   "metadata": {},
   "outputs": [
    {
     "data": {
      "text/plain": [
       "{'Question': 'When  last your gpt is trainned',\n",
       " 'Answer': 'I was last trained on data up to October 2021. However, I have access to some updates and information that may have been added or changed after that date in certain applications. How can I assist you today?'}"
      ]
     },
     "execution_count": 39,
     "metadata": {},
     "output_type": "execute_result"
    }
   ],
   "source": [
    "output"
   ]
  },
  {
   "cell_type": "code",
   "execution_count": null,
   "metadata": {},
   "outputs": [],
   "source": []
  }
 ],
 "metadata": {
  "kernelspec": {
   "display_name": ".venv",
   "language": "python",
   "name": "python3"
  },
  "language_info": {
   "codemirror_mode": {
    "name": "ipython",
    "version": 3
   },
   "file_extension": ".py",
   "mimetype": "text/x-python",
   "name": "python",
   "nbconvert_exporter": "python",
   "pygments_lexer": "ipython3",
   "version": "3.13.5"
  }
 },
 "nbformat": 4,
 "nbformat_minor": 5
}
